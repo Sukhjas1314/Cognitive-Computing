{
 "cells": [
  {
   "cell_type": "markdown",
   "id": "df1357fc",
   "metadata": {},
   "source": [
    "# CC Assignment 4"
   ]
  },
  {
   "cell_type": "markdown",
   "id": "bc7c0845",
   "metadata": {},
   "source": [
    "### Q1."
   ]
  },
  {
   "cell_type": "code",
   "execution_count": 1,
   "id": "62881e92",
   "metadata": {},
   "outputs": [
    {
     "name": "stdout",
     "output_type": "stream",
     "text": [
      "[1 2 3 4 5]\n"
     ]
    }
   ],
   "source": [
    "import numpy as np\n",
    "arr = np.array([1,2,3,4,5])\n",
    "print(arr)"
   ]
  },
  {
   "cell_type": "markdown",
   "id": "d0cbedbf",
   "metadata": {},
   "source": [
    "#### (a)"
   ]
  },
  {
   "cell_type": "code",
   "execution_count": 2,
   "id": "ff7dd017",
   "metadata": {},
   "outputs": [
    {
     "name": "stdout",
     "output_type": "stream",
     "text": [
      "[3 4 5 6 7]\n"
     ]
    }
   ],
   "source": [
    "print(arr + 2)"
   ]
  },
  {
   "cell_type": "markdown",
   "id": "18870978",
   "metadata": {},
   "source": [
    "#### (b)"
   ]
  },
  {
   "cell_type": "code",
   "execution_count": 4,
   "id": "5a55589b",
   "metadata": {},
   "outputs": [
    {
     "name": "stdout",
     "output_type": "stream",
     "text": [
      "[ 3  6  9 12 15]\n"
     ]
    }
   ],
   "source": [
    "print(arr*3)"
   ]
  },
  {
   "cell_type": "markdown",
   "id": "7087ef37",
   "metadata": {},
   "source": [
    "#### (c)"
   ]
  },
  {
   "cell_type": "code",
   "execution_count": 5,
   "id": "4c9d7658",
   "metadata": {},
   "outputs": [
    {
     "name": "stdout",
     "output_type": "stream",
     "text": [
      "[0.5 1.  1.5 2.  2.5]\n"
     ]
    }
   ],
   "source": [
    "print(arr/2)"
   ]
  },
  {
   "cell_type": "markdown",
   "id": "cbad76d5",
   "metadata": {},
   "source": [
    "### Q2."
   ]
  },
  {
   "cell_type": "markdown",
   "id": "0ecc3025",
   "metadata": {},
   "source": [
    "#### (a)"
   ]
  },
  {
   "cell_type": "code",
   "execution_count": 9,
   "id": "24cf232c",
   "metadata": {},
   "outputs": [
    {
     "name": "stdout",
     "output_type": "stream",
     "text": [
      "[5 4 6 3 2 1]\n"
     ]
    }
   ],
   "source": [
    "arr1 = np.array([1,2,3,6,4,5])\n",
    "print(arr1[::-1])"
   ]
  },
  {
   "cell_type": "markdown",
   "id": "4a85fcbd",
   "metadata": {},
   "source": [
    "#### (b)"
   ]
  },
  {
   "cell_type": "markdown",
   "id": "98c988cf",
   "metadata": {},
   "source": [
    "#####         (i)"
   ]
  },
  {
   "cell_type": "code",
   "execution_count": 17,
   "id": "6fb1ad21",
   "metadata": {},
   "outputs": [
    {
     "name": "stdout",
     "output_type": "stream",
     "text": [
      "The most frequent value in array x : 1  at indices : [0 5 7 8 9]\n"
     ]
    }
   ],
   "source": [
    "x = np.array([1,2,3,4,5,1,2,1,1,1])\n",
    "x_unique = np.unique(x)\n",
    "x_count = [np.sum(x==i) for i in x_unique]\n",
    "x_most_frequent = x_unique[np.argmax(x_count)]\n",
    "x_indices = np.where(x == x_most_frequent)[0]\n",
    "print('The most frequent value in array x :',x_most_frequent,' at indices :',x_indices)"
   ]
  },
  {
   "cell_type": "markdown",
   "id": "ea4c2fa2",
   "metadata": {},
   "source": [
    "##### (ii)"
   ]
  },
  {
   "cell_type": "code",
   "execution_count": 19,
   "id": "7b1edc78",
   "metadata": {},
   "outputs": [
    {
     "name": "stdout",
     "output_type": "stream",
     "text": [
      "The most frequent value in array y: 3  at indices : [ 4  8  9 10]\n"
     ]
    }
   ],
   "source": [
    "y = np.array([1,1,1,2,3,4,2,4,3,3,3])\n",
    "y_unique = np.unique(y)\n",
    "y_count = [np.sum(y == i) for i in y_unique]\n",
    "y_most_frequent = y_unique[np.argmax(y_count)]\n",
    "y_indices = np.where(y == y_most_frequent)[0]\n",
    "print('The most frequent value in array y:',y_most_frequent,' at indices :',y_indices)"
   ]
  },
  {
   "cell_type": "markdown",
   "id": "f0fa22a4",
   "metadata": {},
   "source": [
    "### Q3."
   ]
  },
  {
   "cell_type": "markdown",
   "id": "cdca74aa",
   "metadata": {},
   "source": [
    "#### (a)"
   ]
  },
  {
   "cell_type": "code",
   "execution_count": 21,
   "id": "4ac7d423",
   "metadata": {},
   "outputs": [
    {
     "name": "stdout",
     "output_type": "stream",
     "text": [
      "20\n"
     ]
    }
   ],
   "source": [
    "arr2 = np.array([[10,20,30],[40,50,60],[70,80,90]])\n",
    "print(arr2[0,1])"
   ]
  },
  {
   "cell_type": "markdown",
   "id": "24f7edf0",
   "metadata": {},
   "source": [
    "#### (b)"
   ]
  },
  {
   "cell_type": "code",
   "execution_count": 22,
   "id": "a5d8da98",
   "metadata": {},
   "outputs": [
    {
     "name": "stdout",
     "output_type": "stream",
     "text": [
      "70\n"
     ]
    }
   ],
   "source": [
    "print(arr2[2,0])"
   ]
  },
  {
   "cell_type": "markdown",
   "id": "b9de98c5",
   "metadata": {},
   "source": [
    "### Q4."
   ]
  },
  {
   "cell_type": "code",
   "execution_count": 39,
   "id": "5dd4c08c",
   "metadata": {},
   "outputs": [
    {
     "name": "stdout",
     "output_type": "stream",
     "text": [
      "[ 10.    13.75  17.5   21.25  25.    28.75  32.5   36.25  40.    43.75\n",
      "  47.5   51.25  55.    58.75  62.5   66.25  70.    73.75  77.5   81.25\n",
      "  85.    88.75  92.5   96.25 100.  ]\n",
      "\n",
      "\n",
      "Dimension of the array :  1\n",
      "\n",
      "\n",
      "Shape of the array :  (25,)\n",
      "\n",
      "\n",
      "Total elements in the array :  25\n",
      "\n",
      "\n",
      "Datatype of each element :  float64\n",
      "\n",
      "\n",
      "Total number of bytes consumed by the array :  200\n",
      "\n",
      "\n",
      "Transpose of the array : [[ 10.  ]\n",
      " [ 13.75]\n",
      " [ 17.5 ]\n",
      " [ 21.25]\n",
      " [ 25.  ]\n",
      " [ 28.75]\n",
      " [ 32.5 ]\n",
      " [ 36.25]\n",
      " [ 40.  ]\n",
      " [ 43.75]\n",
      " [ 47.5 ]\n",
      " [ 51.25]\n",
      " [ 55.  ]\n",
      " [ 58.75]\n",
      " [ 62.5 ]\n",
      " [ 66.25]\n",
      " [ 70.  ]\n",
      " [ 73.75]\n",
      " [ 77.5 ]\n",
      " [ 81.25]\n",
      " [ 85.  ]\n",
      " [ 88.75]\n",
      " [ 92.5 ]\n",
      " [ 96.25]\n",
      " [100.  ]]\n",
      "\n",
      "\n",
      "Transpose of the array : [ 10.    13.75  17.5   21.25  25.    28.75  32.5   36.25  40.    43.75\n",
      "  47.5   51.25  55.    58.75  62.5   66.25  70.    73.75  77.5   81.25\n",
      "  85.    88.75  92.5   96.25 100.  ]\n",
      "\n",
      "\n"
     ]
    }
   ],
   "source": [
    "sukhman = np.linspace(10,100,25)\n",
    "print(sukhman)\n",
    "print('\\n')\n",
    "\n",
    "print('Dimension of the array : ',sukhman.ndim)\n",
    "print('\\n')\n",
    "\n",
    "print('Shape of the array : ',sukhman.shape)\n",
    "print('\\n')\n",
    "\n",
    "print('Total elements in the array : ',sukhman.size)\n",
    "print('\\n')\n",
    "\n",
    "print('Datatype of each element : ',sukhman.dtype)\n",
    "print('\\n')\n",
    "\n",
    "print('Total number of bytes consumed by the array : ',sukhman.nbytes)\n",
    "print('\\n')\n",
    "\n",
    "print('Transpose of the array :',sukhman.reshape(25,1))\n",
    "print('\\n')\n",
    "\n",
    "print('Transpose of the array :',sukhman.T)\n",
    "print('\\n')"
   ]
  },
  {
   "cell_type": "markdown",
   "id": "41868225",
   "metadata": {},
   "source": [
    "### Q5."
   ]
  },
  {
   "cell_type": "code",
   "execution_count": 38,
   "id": "3671dcfe",
   "metadata": {},
   "outputs": [
    {
     "name": "stdout",
     "output_type": "stream",
     "text": [
      "[[10 20 30 40]\n",
      " [50 60 70 80]\n",
      " [90 15 20 35]]\n",
      "\n",
      "\n",
      "Mean of the array :  43.333333333333336\n",
      "\n",
      "\n",
      "Median of the array :  37.5\n",
      "\n",
      "\n",
      "Max value from the array :  90\n",
      "\n",
      "\n",
      "Min value from the arrray :  10\n",
      "\n",
      "\n",
      "Unique values of the arrray :  [10 15 20 30 35 40 50 60 70 80 90]\n",
      "\n",
      "\n",
      "Reshaped array :  [[10 20 30]\n",
      " [40 50 60]\n",
      " [70 80 90]\n",
      " [15 20 35]]\n",
      "\n",
      "\n",
      "Resized array :  [[10 20 30]\n",
      " [40 50 60]]\n",
      "\n",
      "\n"
     ]
    }
   ],
   "source": [
    "ucs420_sukhman = np.array([[10,20,30,40],[50,60,70,80],[90,15,20,35]])\n",
    "print(ucs420_sukhman)\n",
    "print('\\n')\n",
    "\n",
    "mean = np.mean(ucs420_sukhman)\n",
    "print('Mean of the array : ',mean)\n",
    "print('\\n')\n",
    "\n",
    "median = np.median(ucs420_sukhman)\n",
    "print('Median of the array : ',median)\n",
    "print('\\n')\n",
    "\n",
    "max_val = np.max(ucs420_sukhman)\n",
    "print('Max value from the array : ',max_val)\n",
    "print('\\n')\n",
    "\n",
    "min_val = np.min(ucs420_sukhman)\n",
    "print('Min value from the arrray : ',min_val)\n",
    "print('\\n')\n",
    "\n",
    "unique_val = np.unique(ucs420_sukhman)\n",
    "print('Unique values of the arrray : ',unique_val)\n",
    "print('\\n')\n",
    "\n",
    "reshaped_ucs420_sukhman = ucs420_sukhman.reshape(4,3)\n",
    "print('Reshaped array : ',reshaped_ucs420_sukhman)\n",
    "print('\\n')\n",
    "\n",
    "resized_ucs420_sukhman = np.resize(ucs420_sukhman,(2,3))\n",
    "print('Resized array : ',resized_ucs420_sukhman)\n",
    "print('\\n')"
   ]
  },
  {
   "cell_type": "code",
   "execution_count": null,
   "id": "54f4f14d",
   "metadata": {},
   "outputs": [],
   "source": []
  }
 ],
 "metadata": {
  "kernelspec": {
   "display_name": "Python 3 (ipykernel)",
   "language": "python",
   "name": "python3"
  },
  "language_info": {
   "codemirror_mode": {
    "name": "ipython",
    "version": 3
   },
   "file_extension": ".py",
   "mimetype": "text/x-python",
   "name": "python",
   "nbconvert_exporter": "python",
   "pygments_lexer": "ipython3",
   "version": "3.11.5"
  }
 },
 "nbformat": 4,
 "nbformat_minor": 5
}
